{
 "cells": [
  {
   "cell_type": "markdown",
   "metadata": {},
   "source": [
    "# Lab 1: ML Life Cycle: Business Understanding and Problem Formulation"
   ]
  },
  {
   "cell_type": "code",
   "execution_count": null,
   "metadata": {},
   "outputs": [],
   "source": [
    "import pandas as pd\n",
    "import numpy as np"
   ]
  },
  {
   "cell_type": "markdown",
   "metadata": {},
   "source": [
    "In this lab, you will practice the first step of the machine learning life cycle: formulating a machine learning problem. But first, you will get more practice working with some of the Python machine learning packages that you will use throughout the machine learning life cycle to develop your models."
   ]
  },
  {
   "cell_type": "markdown",
   "metadata": {},
   "source": [
    " ## Part 1. Practice Working with ML Python Tools"
   ]
  },
  {
   "cell_type": "markdown",
   "metadata": {},
   "source": [
    "In this part of the lab you will:\n",
    "\n",
    "1. Work with NumPy arrays and NumPy functions\n",
    "2. Create Pandas DataFrames from data\n",
    "3. Use NumPy and Pandas to analyze the data\n",
    "4. Visualize the data with Matplotlib"
   ]
  },
  {
   "cell_type": "markdown",
   "metadata": {},
   "source": [
    "<b>Note</b>: In Jupyter Notebooks, you can output a variable in two different ways: \n",
    "\n",
    "1. By writing the name of the variable \n",
    "2. By using the python `print()` function\n",
    "\n",
    "The code cells below demonstrate this. Run each cell and inspect the results."
   ]
  },
  {
   "cell_type": "code",
   "execution_count": null,
   "metadata": {},
   "outputs": [],
   "source": [
    "x = 5\n",
    "x "
   ]
  },
  {
   "cell_type": "code",
   "execution_count": null,
   "metadata": {},
   "outputs": [],
   "source": [
    "x = 5\n",
    "print(x)"
   ]
  },
  {
   "cell_type": "markdown",
   "metadata": {},
   "source": [
    "If you want to output multiple items, you must use a `print()` statement. See the code cell below as an example."
   ]
  },
  {
   "cell_type": "code",
   "execution_count": null,
   "metadata": {},
   "outputs": [],
   "source": [
    "y = 4\n",
    "z = 3\n",
    "\n",
    "print(y)\n",
    "print(z)"
   ]
  },
  {
   "cell_type": "markdown",
   "metadata": {},
   "source": [
    "## Practice Operating on NumPy Arrays"
   ]
  },
  {
   "cell_type": "markdown",
   "metadata": {},
   "source": [
    "### a. Define a Python list"
   ]
  },
  {
   "cell_type": "markdown",
   "metadata": {},
   "source": [
    "The code cell below defines a new list in Python."
   ]
  },
  {
   "cell_type": "code",
   "execution_count": null,
   "metadata": {},
   "outputs": [],
   "source": [
    "python_list = [0,2,4,6,8,10,12,14]\n",
    "python_list"
   ]
  },
  {
   "cell_type": "markdown",
   "metadata": {},
   "source": [
    "### b. Define a Python range\n",
    "\n",
    "The code cell below defines a Python range in that contains the same values as those in the list above."
   ]
  },
  {
   "cell_type": "code",
   "execution_count": null,
   "metadata": {},
   "outputs": [],
   "source": [
    "python_range = range(0, 15, 2)\n",
    "python_range"
   ]
  },
  {
   "cell_type": "markdown",
   "metadata": {},
   "source": [
    "The above returns an object of type `range`. The code cell below coverts this object to a Python list using the Python `list()` function.\n",
    " "
   ]
  },
  {
   "cell_type": "code",
   "execution_count": null,
   "metadata": {},
   "outputs": [],
   "source": [
    "list(python_range)"
   ]
  },
  {
   "cell_type": "markdown",
   "metadata": {},
   "source": [
    "### c. Define a NumPy range"
   ]
  },
  {
   "cell_type": "markdown",
   "metadata": {},
   "source": [
    "<b>Task:</b> In the code cell below, use NumPy's `np.arange()` method to create a NumPy range that has the same output as the Python range above. Save the output to the variable `numpy_range`."
   ]
  },
  {
   "cell_type": "code",
   "execution_count": 1,
   "metadata": {},
   "outputs": [
    {
     "data": {
      "text/plain": [
       "array([ 0,  2,  4,  6,  8, 10, 12, 14])"
      ]
     },
     "execution_count": 1,
     "metadata": {},
     "output_type": "execute_result"
    }
   ],
   "source": [
    "# YOUR CODE HERE\n",
    "import numpy as np\n",
    "numpy_range = np.arange(0, 15 , 2)\n",
    "numpy_range"
   ]
  },
  {
   "cell_type": "markdown",
   "metadata": {},
   "source": [
    "The code above returns an object of type `ndarray` (i.e. an array). \n",
    "\n",
    "<b>Task:</b> In the code cell below, convert the NumPy array `numpy_range` to a Python list.\n"
   ]
  },
  {
   "cell_type": "code",
   "execution_count": 2,
   "metadata": {},
   "outputs": [
    {
     "data": {
      "text/plain": [
       "[0, 2, 4, 6, 8, 10, 12, 14]"
      ]
     },
     "execution_count": 2,
     "metadata": {},
     "output_type": "execute_result"
    }
   ],
   "source": [
    "# YOUR CODE HERE\n",
    "python_list_from_numpy = numpy_range.tolist()\n",
    "python_list_from_numpy"
   ]
  },
  {
   "cell_type": "markdown",
   "metadata": {},
   "source": [
    "### d. List comprehension"
   ]
  },
  {
   "cell_type": "markdown",
   "metadata": {},
   "source": [
    "Consider the task of replacing each value in a list with its square. The traditional way of performing a transformation on every element of a list is via a `for` loop. \n",
    "\n",
    "\n",
    "<b>Task:</b> In the code cell below, use a `for` loop to replace every value in the list `my_list` with its square (e.g. 2 will become 4). In your loop, use a range.\n",
    "\n"
   ]
  },
  {
   "cell_type": "code",
   "execution_count": 3,
   "metadata": {},
   "outputs": [
    {
     "name": "stdout",
     "output_type": "stream",
     "text": [
      "[1, 4, 9, 16]\n"
     ]
    }
   ],
   "source": [
    "my_list = [1,2,3,4]\n",
    "\n",
    "# YOUR CODE HERE\n",
    "for i in range(len(my_list)):\n",
    "    my_list[i] = my_list[i] ** 2\n",
    "    \n",
    "print(my_list)"
   ]
  },
  {
   "cell_type": "markdown",
   "metadata": {},
   "source": [
    "There is a different, more 'Pythonic' way to accomplish the same task.<br>\n",
    "\n",
    "*List comprehension* is one of the most elegant functionalities native to Python. It offers a concise way of applying a particular transformation to every element in a list. <br>\n",
    "\n",
    "By using list comprehension syntax, we can write a single, easily interpretable line of code that does the same transformation without using ranges or an iterating index variable `i`:"
   ]
  },
  {
   "cell_type": "code",
   "execution_count": null,
   "metadata": {},
   "outputs": [],
   "source": [
    "my_list = [1,2,3,4]\n",
    "\n",
    "my_list = [x**2 for x in my_list]\n",
    "\n",
    "print(my_list)"
   ]
  },
  {
   "cell_type": "markdown",
   "metadata": {},
   "source": [
    "### e. Create a NumPy array"
   ]
  },
  {
   "cell_type": "markdown",
   "metadata": {},
   "source": [
    "<b>Task:</b> In the code cell below, create a `numpy` array that contains the integer values 1 through 4. Save the result to variable `arr`."
   ]
  },
  {
   "cell_type": "code",
   "execution_count": 4,
   "metadata": {},
   "outputs": [
    {
     "name": "stdout",
     "output_type": "stream",
     "text": [
      "[1 2 3 4]\n"
     ]
    }
   ],
   "source": [
    "# YOUR CODE HERE\n",
    "arr = np.arange(1, 5)\n",
    "\n",
    "print(arr)"
   ]
  },
  {
   "cell_type": "markdown",
   "metadata": {},
   "source": [
    "### e.  Obtain the dimensions of the NumPy array"
   ]
  },
  {
   "cell_type": "markdown",
   "metadata": {},
   "source": [
    "The NumPy function `np.shape()` returns the dimensions of a `numpy` array. Because `numpy` arrays can be two dimensional (i.e. a matrix), `np.shape()` returns a tuple that contains the lengths of the array's dimensions. You can consider the result to be the number of rows and the number of columns in the NumPy array.\n",
    "\n",
    "<b>Task:</b> In the code cell below, use `np.shape()` to find the 'shape' of `numpy` array `arr`."
   ]
  },
  {
   "cell_type": "code",
   "execution_count": 5,
   "metadata": {},
   "outputs": [
    {
     "name": "stdout",
     "output_type": "stream",
     "text": [
      "(4,)\n"
     ]
    }
   ],
   "source": [
    "# YOUR CODE HERE\n",
    "import numpy as np\n",
    "arr = np.array([1, 2, 3, 4])\n",
    "shape = np.shape(arr)\n",
    "print(shape)\n"
   ]
  },
  {
   "cell_type": "markdown",
   "metadata": {},
   "source": [
    "Notice that there appears to be an empty 'slot' for another number in the tuple.\n",
    "Since `arr` is a one-dimensional array, we only care about the first element in the tuple that `np.shape()` returns.\n",
    "\n",
    "<b>Task:</b> In the code cell below, obtain the length of `arr` by extracting the first element that is returned by `np.shape()`. Save the result to the variable `arr_length`.\n"
   ]
  },
  {
   "cell_type": "code",
   "execution_count": 6,
   "metadata": {},
   "outputs": [
    {
     "name": "stdout",
     "output_type": "stream",
     "text": [
      "4\n"
     ]
    }
   ],
   "source": [
    "# YOUR CODE HERE\n",
    "import numpy as np\n",
    "arr = np.array([1, 2, 3, 4])\n",
    "arr_length = np.shape(arr)[0]\n",
    "\n",
    "print(arr_length)"
   ]
  },
  {
   "cell_type": "markdown",
   "metadata": {},
   "source": [
    "### f. Create a uniform (same value in every position) array"
   ]
  },
  {
   "cell_type": "markdown",
   "metadata": {},
   "source": [
    "We will now use ```np.ones()``` to create an array of a specified length that contains the value '1' in each position:"
   ]
  },
  {
   "cell_type": "code",
   "execution_count": null,
   "metadata": {},
   "outputs": [],
   "source": [
    "np.ones(55, dtype=int)"
   ]
  },
  {
   "cell_type": "markdown",
   "metadata": {},
   "source": [
    "We can use this method to create an array of any identical value. Let's create an array of length 13, filled with the value '7' in every position:"
   ]
  },
  {
   "cell_type": "code",
   "execution_count": null,
   "metadata": {},
   "outputs": [],
   "source": [
    "7 * np.ones(13, dtype=int)"
   ]
  },
  {
   "cell_type": "markdown",
   "metadata": {},
   "source": [
    "### g. Create a two-dimensional NumPy array"
   ]
  },
  {
   "cell_type": "markdown",
   "metadata": {},
   "source": [
    "Let us explore the possibilities of the ```np.array()``` function further. NumPy arrays can be of more than one dimension. The code cell below creates a two-dimensional `numpy` array (a matrix)."
   ]
  },
  {
   "cell_type": "code",
   "execution_count": null,
   "metadata": {},
   "outputs": [],
   "source": [
    "matrix = np.array([[1,2,3], [4,5,6]])\n",
    "matrix"
   ]
  },
  {
   "cell_type": "markdown",
   "metadata": {},
   "source": [
    "<b>Task:</b> In the code cell below, use `np.shape()` to find the dimensions of `matrix`."
   ]
  },
  {
   "cell_type": "code",
   "execution_count": 7,
   "metadata": {},
   "outputs": [
    {
     "name": "stdout",
     "output_type": "stream",
     "text": [
      "(2, 3)\n"
     ]
    }
   ],
   "source": [
    "# YOUR CODE HERE\n",
    "import numpy as np\n",
    "matrix = np.array([[1, 2, 3], [4, 5, 6]])\n",
    "shape = np.shape(matrix)\n",
    "print(shape)\n",
    "            \n"
   ]
  },
  {
   "cell_type": "markdown",
   "metadata": {},
   "source": [
    "### h. Create an identity matrix"
   ]
  },
  {
   "cell_type": "markdown",
   "metadata": {},
   "source": [
    "`np.eye()` is a NumPy function that creates an identity matrix of a specified size. An identity matrix is a matrix in which all of the values of the main diagonal are one, and all other values in the matrix are zero."
   ]
  },
  {
   "cell_type": "code",
   "execution_count": null,
   "metadata": {},
   "outputs": [],
   "source": [
    "np.eye(5)"
   ]
  },
  {
   "cell_type": "markdown",
   "metadata": {},
   "source": [
    "Check your intuition: What do you think will be the output after running this cell? Run the cell to see if you are correct."
   ]
  },
  {
   "cell_type": "code",
   "execution_count": null,
   "metadata": {},
   "outputs": [],
   "source": [
    "A = np.eye(3)\n",
    "B = 4 * np.eye(3)\n",
    "A+B"
   ]
  },
  {
   "cell_type": "markdown",
   "metadata": {},
   "source": [
    "### i. A small challenge:  matrix transformation and random matrix generation\n",
    "\n",
    "The `np.triu()` function obtains the upper right triangle of a two-dimensional NumPy array (matrix). Inspect the documentation by running the command ```np.triu?``` in the cell below. "
   ]
  },
  {
   "cell_type": "code",
   "execution_count": null,
   "metadata": {},
   "outputs": [],
   "source": [
    "np.triu?"
   ]
  },
  {
   "cell_type": "markdown",
   "metadata": {},
   "source": [
    "<b>Task:</b> Inspect the code in the cell below, then run the code and note the resulting matrix `M`."
   ]
  },
  {
   "cell_type": "code",
   "execution_count": null,
   "metadata": {},
   "outputs": [],
   "source": [
    "M = np.round(np.random.rand(5,5),2)\n",
    "print(\"M=\\n\", M)"
   ]
  },
  {
   "cell_type": "markdown",
   "metadata": {},
   "source": [
    "<b>Task:</b> Use `np.triu()` to create a matrix called ```new_M``` which is identical to the matrix```M```, except that in the lower triangle (i.e., all the cells below the diagonal), all values will be zero."
   ]
  },
  {
   "cell_type": "code",
   "execution_count": 9,
   "metadata": {},
   "outputs": [
    {
     "name": "stdout",
     "output_type": "stream",
     "text": [
      "M=\n",
      " [[0.09 0.86 0.11 0.94 0.41]\n",
      " [0.14 0.59 0.97 0.65 0.29]\n",
      " [0.44 0.23 0.12 0.01 0.7 ]\n",
      " [0.57 1.   0.91 0.25 0.91]\n",
      " [0.19 0.39 0.98 0.88 0.18]]\n",
      "new_M=\n",
      " [[0.09 0.86 0.11 0.94 0.41]\n",
      " [0.   0.59 0.97 0.65 0.29]\n",
      " [0.   0.   0.12 0.01 0.7 ]\n",
      " [0.   0.   0.   0.25 0.91]\n",
      " [0.   0.   0.   0.   0.18]]\n"
     ]
    }
   ],
   "source": [
    "# YOUR CODE HERE\n",
    "import numpy as np\n",
    "M = np.round(np.random.rand(5, 5), 2)\n",
    "print(\"M=\\n\", M)\n",
    "new_M = np.triu(M)\n",
    "\n",
    "print(\"new_M=\\n\", new_M)"
   ]
  },
  {
   "cell_type": "markdown",
   "metadata": {},
   "source": [
    "<b>Task:</b> Using the code provided above for generating the matrix ```M```, try creating a matrix with 13 rows and 3 columns containing random numbers. Save the resulting matrix to the variable `random_M`."
   ]
  },
  {
   "cell_type": "code",
   "execution_count": 10,
   "metadata": {},
   "outputs": [
    {
     "name": "stdout",
     "output_type": "stream",
     "text": [
      "random_M= \n",
      " [[0.27 0.42 0.52]\n",
      " [0.46 0.67 0.7 ]\n",
      " [0.73 0.55 0.4 ]\n",
      " [0.42 0.1  0.12]\n",
      " [0.15 0.08 0.78]\n",
      " [0.1  0.06 0.91]\n",
      " [0.78 0.31 0.77]\n",
      " [0.88 0.45 0.19]\n",
      " [0.05 0.11 0.77]\n",
      " [0.98 0.1  0.15]\n",
      " [0.69 0.82 0.27]\n",
      " [0.47 0.54 0.7 ]\n",
      " [0.16 0.94 0.15]]\n"
     ]
    }
   ],
   "source": [
    "# YOUR CODE HERE\n",
    "import numpy as np\n",
    "random_M = np.round(np.random.rand(13, 3), 2)\n",
    "\n",
    "print(\"random_M= \\n\", random_M)"
   ]
  },
  {
   "cell_type": "markdown",
   "metadata": {},
   "source": [
    "### j. Indexing and slicing two-dimensional NumPy arrays"
   ]
  },
  {
   "cell_type": "markdown",
   "metadata": {},
   "source": [
    "The code cell below extracts an element of a two-dimensional NumPy array by indexing into the array by specifying its location. Just like Python lists, NumPy arrays use 0-based indexing."
   ]
  },
  {
   "cell_type": "code",
   "execution_count": null,
   "metadata": {},
   "outputs": [],
   "source": [
    "random_M[3][2]"
   ]
  },
  {
   "cell_type": "markdown",
   "metadata": {},
   "source": [
    "You can also use the following syntax to achieve the same result."
   ]
  },
  {
   "cell_type": "code",
   "execution_count": null,
   "metadata": {},
   "outputs": [],
   "source": [
    "random_M[3,2]"
   ]
  },
  {
   "cell_type": "markdown",
   "metadata": {},
   "source": [
    "You learned how to slice a Pandas DataFrames. You can use the same techniques to slice a NumPy array. \n",
    "\n",
    "\n",
    "<b>Task:</b> In the code cell below, use slicing to obtain the rows with the index 3 through 5 in `random_M`."
   ]
  },
  {
   "cell_type": "code",
   "execution_count": 11,
   "metadata": {},
   "outputs": [
    {
     "name": "stdout",
     "output_type": "stream",
     "text": [
      "sliced_rows=\n",
      " [[0.42 0.1  0.12]\n",
      " [0.15 0.08 0.78]\n",
      " [0.1  0.06 0.91]]\n"
     ]
    }
   ],
   "source": [
    "# YOUR CODE HERE\n",
    "sliced_rows = random_M[3:6]\n",
    "print(\"sliced_rows=\\n\", sliced_rows)"
   ]
  },
  {
   "cell_type": "markdown",
   "metadata": {},
   "source": [
    "<b>Task:</b> In the code cell below, use slicing to obtain all of the rows in the second column (column has the index of 1) of `random_M`."
   ]
  },
  {
   "cell_type": "code",
   "execution_count": 12,
   "metadata": {},
   "outputs": [
    {
     "name": "stdout",
     "output_type": "stream",
     "text": [
      "second_column=\n",
      " [0.42 0.67 0.55 0.1  0.08 0.06 0.31 0.45 0.11 0.1  0.82 0.54 0.94]\n"
     ]
    }
   ],
   "source": [
    "# YOUR CODE HERE\n",
    "second_column = random_M[:, 1]\n",
    "print(\"second_column=\\n\", second_column)\n"
   ]
  },
  {
   "cell_type": "markdown",
   "metadata": {},
   "source": [
    "<b>Task:</b> Use the code cell below to perform slicing on `random_M` to obtain a portion of the array of your choosing."
   ]
  },
  {
   "cell_type": "code",
   "execution_count": 13,
   "metadata": {},
   "outputs": [
    {
     "name": "stdout",
     "output_type": "stream",
     "text": [
      "slice_example=\n",
      " [[0.55 0.4 ]\n",
      " [0.1  0.12]\n",
      " [0.08 0.78]\n",
      " [0.06 0.91]\n",
      " [0.31 0.77]]\n"
     ]
    }
   ],
   "source": [
    "# YOUR CODE HERE\n",
    "slice_example = random_M[2:7, 1:3]\n",
    "print(\"slice_example=\\n\", slice_example)\n"
   ]
  },
  {
   "cell_type": "markdown",
   "metadata": {},
   "source": [
    "### k. Evaluating a Boolean condition"
   ]
  },
  {
   "cell_type": "markdown",
   "metadata": {},
   "source": [
    "In real-life data tasks, you will often have to compute the boolean ```(True/False)``` value of some statement for all entries in a given NumPy array. You will formulate a condition &mdash; think of it as a *test* &mdash; and run a computation that returns `True` or `False` depending on whether the test passed or failed by a particular value in the array.\n",
    "\n",
    "The condition may be something like \"the value is greater than 0.5\". You would like to know if this is true or false for every value in  the array. \n",
    "\n",
    "The code cells below demonstrates how to perform such a task on NumPy arrays.\n",
    "\n",
    "First, we will create the array:"
   ]
  },
  {
   "cell_type": "code",
   "execution_count": null,
   "metadata": {},
   "outputs": [],
   "source": [
    "our_array = np.random.rand(1, 20)\n",
    "print(our_array)"
   ]
  },
  {
   "cell_type": "markdown",
   "metadata": {},
   "source": [
    "Next, we will apply a condition to the array:"
   ]
  },
  {
   "cell_type": "code",
   "execution_count": null,
   "metadata": {},
   "outputs": [],
   "source": [
    "is_greater = our_array > 0.5\n",
    "print(is_greater)"
   ]
  },
  {
   "cell_type": "markdown",
   "metadata": {},
   "source": [
    "Let's apply this technique to our matrix `random_M`. Let's inspect the matrix again as a refresher."
   ]
  },
  {
   "cell_type": "code",
   "execution_count": null,
   "metadata": {},
   "outputs": [],
   "source": [
    "print(random_M)"
   ]
  },
  {
   "cell_type": "markdown",
   "metadata": {},
   "source": [
    "<b>Task:</b> In the code cell below, determine whether the value of every element in the second column of `random_M` is greater than 0.5. Save the result to the variable `is_greater`."
   ]
  },
  {
   "cell_type": "code",
   "execution_count": 14,
   "metadata": {},
   "outputs": [
    {
     "name": "stdout",
     "output_type": "stream",
     "text": [
      "[False  True  True False False False False False False False  True  True\n",
      "  True]\n"
     ]
    }
   ],
   "source": [
    "# YOUR CODE HERE\n",
    "is_greater = random_M[:, 1] > 0.5\n",
    "\n",
    "print(is_greater)"
   ]
  },
  {
   "cell_type": "markdown",
   "metadata": {},
   "source": [
    "We can use the function `np.any()` to determine if there is any element in a NumPy array that is True. Let us apply this to the array `is_greater` above. Using this function we can easily determine that indeed there are values greater than 0.5 in the second row of `random_M`."
   ]
  },
  {
   "cell_type": "code",
   "execution_count": null,
   "metadata": {},
   "outputs": [],
   "source": [
    "np.any(is_greater)"
   ]
  },
  {
   "cell_type": "markdown",
   "metadata": {},
   "source": [
    "Let's apply `np.any()` to another condition. \n",
    "\n",
    "<b>Task:</b> Use `np.any()` along with a conditional statement to determine if any value in the third row of `random_M` is less than .1."
   ]
  },
  {
   "cell_type": "code",
   "execution_count": 3,
   "metadata": {
    "scrolled": true
   },
   "outputs": [
    {
     "name": "stdout",
     "output_type": "stream",
     "text": [
      "random_M:\n",
      " [[0.74186309 0.99647488 0.4024311  0.52065094 0.42918664]\n",
      " [0.46336063 0.87401761 0.46502667 0.82065    0.7067211 ]\n",
      " [0.09664596 0.15027693 0.3483374  0.04919283 0.78427492]\n",
      " [0.84669733 0.18929537 0.10431878 0.56700497 0.19661337]\n",
      " [0.45016837 0.09918656 0.30035312 0.71563013 0.44221203]]\n",
      "Any value in row 3 < 0.1: True\n"
     ]
    }
   ],
   "source": [
    "# YOUR CODE HERE\n",
    "import numpy as np\n",
    "random_M = np.random.rand(5, 5)\n",
    "print(\"random_M:\\n\", random_M)\n",
    "is_less_than = random_M[2, :] < 0.1\n",
    "result = np.any(is_less_than)\n",
    "print(\"Any value in row 3 < 0.1:\", result)"
   ]
  },
  {
   "cell_type": "markdown",
   "metadata": {},
   "source": [
    "## Practice Working With Pandas DataFrames"
   ]
  },
  {
   "cell_type": "markdown",
   "metadata": {},
   "source": [
    "### a. Creating a DataFrame: two (of the many) ways"
   ]
  },
  {
   "cell_type": "markdown",
   "metadata": {},
   "source": [
    "The code cells below demonstrate how we can create Pandas DataFrames in two ways: \n",
    "\n",
    "1. From a *list of lists*\n",
    "2. From a *dictionary*\n",
    "\n",
    "First, the cell below creates a DataFrame from a list containing phone numbers and their country codes. The DataFrame is named `df`. Run the cell below to inspect the DataFrame `df` that was created."
   ]
  },
  {
   "cell_type": "code",
   "execution_count": null,
   "metadata": {},
   "outputs": [],
   "source": [
    "my_list = [['+1', '(929)-000-0000'], ['+34', '(917)-000-0000'], ['+7', '(470)-000-0000']]\n",
    "\n",
    "df = pd.DataFrame(my_list, columns = ['country_code', 'phone'])\n",
    "df"
   ]
  },
  {
   "cell_type": "markdown",
   "metadata": {},
   "source": [
    "Second, the cell below creates a DataFrame from a dictionary that contains the same information as the list above. The dictionary contains phone numbers and their country codes. Run the cell below to inspect the DataFrame `df_from_dict` that was created from the dictionary. Notice that both DataFrames `df` and `df_from_dict` contain the same values."
   ]
  },
  {
   "cell_type": "code",
   "execution_count": null,
   "metadata": {},
   "outputs": [],
   "source": [
    "my_dict = {'country_code': ['+1', '+34', '+7'], 'phone':['(929)-000-0000', '(917)-000-0000', '(470)-000-0000']}\n",
    "\n",
    "df_from_dict = pd.DataFrame(my_dict)\n",
    "df_from_dict"
   ]
  },
  {
   "cell_type": "markdown",
   "metadata": {},
   "source": [
    "### b. Adding a column to a DataFrame object"
   ]
  },
  {
   "cell_type": "markdown",
   "metadata": {},
   "source": [
    "We are going to continue working with the DataFrame `df` that was created above. The code cell below adds a new column of values to `df`. Run the cell and inspect the DataFrame to see the new column that was added."
   ]
  },
  {
   "cell_type": "code",
   "execution_count": null,
   "metadata": {},
   "outputs": [],
   "source": [
    "df['grade']= ['A','B','A']\n",
    "df"
   ]
  },
  {
   "cell_type": "markdown",
   "metadata": {},
   "source": [
    "<b>Task:</b> In the cell below, create a new column in DataFrame `df` that contains the names of individuals.\n",
    "\n",
    "* First, create a list containing three names of your choosing. \n",
    "* Next, create a new column in `df` called `names` by using the list you created."
   ]
  },
  {
   "cell_type": "code",
   "execution_count": null,
   "metadata": {},
   "outputs": [],
   "source": [
    "# YOUR CODE HERE\n",
    "import pandas as pd\n",
    "my_list = \n",
    "print(df)"
   ]
  },
  {
   "cell_type": "markdown",
   "metadata": {},
   "source": [
    "### c. Sorting the DataFrame by values in a specific column"
   ]
  },
  {
   "cell_type": "markdown",
   "metadata": {},
   "source": [
    "The `df.sort_values()` method sorts a DataFrame by the specified column. The code cell below will use `df.sort_values()` to sort DataFrame`df` by the values contained in column `grade`. The original DataFrame `df` will not be changed, so we will assign the resulting DataFrame to variable `df` to update the values in the DataFrame."
   ]
  },
  {
   "cell_type": "code",
   "execution_count": null,
   "metadata": {},
   "outputs": [],
   "source": [
    "df = df.sort_values(['grade'])\n",
    "df"
   ]
  },
  {
   "cell_type": "markdown",
   "metadata": {},
   "source": [
    "### d. Combining multiple DataFrames  and renaming  columns with `df.rename()`"
   ]
  },
  {
   "cell_type": "markdown",
   "metadata": {},
   "source": [
    "In real life settings, you will often need to combine separate sets of related data. Two functions used for this purpose are `pd.concat()` and `pd.merge()`.\n",
    "\n",
    "\n",
    "To illustrate, let's create a new DataFrame. The code cell below creates a new DataFrame `df2` that also contains phone numbers, their country codes and a grade. Run the cell and inspect the new DataFrame that was created."
   ]
  },
  {
   "cell_type": "code",
   "execution_count": null,
   "metadata": {},
   "outputs": [],
   "source": [
    "my_dict2 = {'country': ['+32', '+81', '+11'], 'grade':['B', 'B+', 'A'], 'phone':['(874)-444-0000', '(313)-003-1000', '(990)-006-0660']}\n",
    "\n",
    "df2 = pd.DataFrame(my_dict2)\n",
    "df2"
   ]
  },
  {
   "cell_type": "markdown",
   "metadata": {},
   "source": [
    "The code cell below uses the Pandas ```pd.concat()``` function to append `df2` to `df`. The `pd.concat()` function will not change the values in the original DataFrames, so we will save the newly formed DataFrame to variable `df_concat`. "
   ]
  },
  {
   "cell_type": "code",
   "execution_count": null,
   "metadata": {},
   "outputs": [],
   "source": [
    "df_concat = pd.concat([df,df2])\n",
    "df_concat"
   ]
  },
  {
   "cell_type": "markdown",
   "metadata": {},
   "source": [
    "Notice that the new DataFrame `df_concat` contains two columns containing country codes. This is because the two original DataFrames contained different spellings for the columns. \n",
    "\n",
    "\n",
    "We can easily fix this by changing the name of the column in DataFrame `df2` to be consistent with the name of the column in DataFrame `df`."
   ]
  },
  {
   "cell_type": "code",
   "execution_count": null,
   "metadata": {},
   "outputs": [],
   "source": [
    "df2 = df2.rename(columns={'country':'country_code'})\n",
    "df2"
   ]
  },
  {
   "cell_type": "markdown",
   "metadata": {},
   "source": [
    "<b>Task</b>: In the cell below, run the `pd.concat()` function again to concatenate DataFrames `df` and `df2` and save the resulting DataFrame to variable `df_concat2`. Run the cell and inspect the results."
   ]
  },
  {
   "cell_type": "code",
   "execution_count": 2,
   "metadata": {},
   "outputs": [
    {
     "name": "stdout",
     "output_type": "stream",
     "text": [
      "  country_code           phone grade    names\n",
      "0           +1   (929)-000-000     A    Alice\n",
      "1          +34   (917)-000-000     B      Bob\n",
      "2           +7   (470)-000-000     A  Charlie\n",
      "0          +32   (874)-444-000     B      NaN\n",
      "1          +81  (313)-003-1000    B+      NaN\n",
      "2          +11  (990)-006-0660     A      NaN\n"
     ]
    }
   ],
   "source": [
    "# YOUR CODE HERE\n",
    "import pandas as pd\n",
    "my_list = [['+1', '(929)-000-000'], ['+34', '(917)-000-000'], ['+7', '(470)-000-000']]\n",
    "df = pd.DataFrame(my_list, columns=['country_code', 'phone'])\n",
    "df['grade'] = ['A', 'B', 'A']\n",
    "df['names'] = ['Alice', 'Bob', 'Charlie']\n",
    "my_dict2 = {\n",
    "    'country': ['+32', '+81', '+11'],\n",
    "    'grade': ['B', 'B+', 'A'],\n",
    "    'phone': ['(874)-444-000', '(313)-003-1000', '(990)-006-0660']\n",
    "}\n",
    "df2 = pd.DataFrame(my_dict2)\n",
    "df2 = df2.rename(columns={'country': 'country_code'})\n",
    "df_concat2 = pd.concat([df, df2])\n",
    "print(df_concat2)"
   ]
  },
  {
   "cell_type": "markdown",
   "metadata": {},
   "source": [
    "One other problem is that the index has repeated values. This defeats the purpose of an index, and ought to be fixed. Let's try the concatenation again, this time adding `reset_index()` method to produce correct results:"
   ]
  },
  {
   "cell_type": "code",
   "execution_count": null,
   "metadata": {},
   "outputs": [],
   "source": [
    "df_concat2 = pd.concat([df,df2]).reset_index()\n",
    "df_concat2"
   ]
  },
  {
   "cell_type": "markdown",
   "metadata": {},
   "source": [
    "Now we have one column for `country_code`. Notice that we have missing values for the names of individuals, since names  were contained in `df` but not in `df2`. In a future unit, you will learn how to deal with missing values."
   ]
  },
  {
   "cell_type": "markdown",
   "metadata": {},
   "source": [
    "What if our task were to merge ```df2``` with yet another dataset &mdash; one that contains additional unique columns? Let's look at DataFrame `df2` again:"
   ]
  },
  {
   "cell_type": "code",
   "execution_count": null,
   "metadata": {},
   "outputs": [],
   "source": [
    "df2"
   ]
  },
  {
   "cell_type": "markdown",
   "metadata": {},
   "source": [
    "The code cell below creates a new DataFrame `df3`."
   ]
  },
  {
   "cell_type": "code",
   "execution_count": null,
   "metadata": {},
   "outputs": [],
   "source": [
    "my_dict3 = {'country_code': ['+32', '+44', '+11'], 'phone':['(874)-444-0000', '(575)-755-1000', '(990)-006-0660'], 'grade':['B', 'B+', 'A'], 'n_credits': [12, 3, 9]}\n",
    "\n",
    "df3 = pd.DataFrame(my_dict3)\n",
    "df3"
   ]
  },
  {
   "cell_type": "markdown",
   "metadata": {},
   "source": [
    "The following code cell merges both DataFrames based on the values contained in the `phone` column. If one column in both DataFrames contains the same value, the rows in which the value appears are merged. Otherwise, the row will not be included in the updated DataFrame. Run the code cell below and inspect the new DataFrame `df_merged`."
   ]
  },
  {
   "cell_type": "code",
   "execution_count": null,
   "metadata": {},
   "outputs": [],
   "source": [
    "df_merged = df2.merge(df3, on = 'phone')\n",
    "df_merged"
   ]
  },
  {
   "cell_type": "markdown",
   "metadata": {},
   "source": [
    "## Practice Working With a Dataset"
   ]
  },
  {
   "cell_type": "markdown",
   "metadata": {},
   "source": [
    "We are now well equipped to deal with a real dataset! Our dataset will contain information about New York City listings on the Airbnb platform.\n",
    "\n",
    "### a. Load the dataset: `pd.read_csv()`\n",
    "\n",
    "The code cell below loads a dataset from a CSV file and saves it to a Pandas DataFrame. \n",
    "\n",
    "First, we will import the `OS` module. This module enables you to interact with the operating system, allowing you access to file names, etc.\n",
    "\n"
   ]
  },
  {
   "cell_type": "code",
   "execution_count": null,
   "metadata": {},
   "outputs": [],
   "source": [
    "import os "
   ]
  },
  {
   "cell_type": "markdown",
   "metadata": {},
   "source": [
    "Next, we will use the `os.path.join()` method to obtain a path to our data file. This method concatenates different path components (i.e. directories and a file name, into one file system path). We will save the results of this method to the variable name `filename`.\n",
    "\n",
    "Now that we have a path to our CSV file, we will use the `pd.read_csv()` method to load the CSV file into a Pandas DataFrame named `dataFrame`.\n",
    "\n",
    "Examine the code in the cell below and run the cell.\n",
    "\n",
    "<b>Note</b>: the cell below may generate a warning. Ignore the warning. "
   ]
  },
  {
   "cell_type": "code",
   "execution_count": null,
   "metadata": {},
   "outputs": [],
   "source": [
    "filename = os.path.join(os.getcwd(), \"data\", \"airbnbData.csv\") \n",
    "dataFrame = pd.read_csv(filename)"
   ]
  },
  {
   "cell_type": "code",
   "execution_count": null,
   "metadata": {},
   "outputs": [],
   "source": [
    "dataFrame.shape"
   ]
  },
  {
   "cell_type": "markdown",
   "metadata": {},
   "source": [
    "First, get a peek at the data:"
   ]
  },
  {
   "cell_type": "code",
   "execution_count": null,
   "metadata": {},
   "outputs": [],
   "source": [
    "dataFrame.head()"
   ]
  },
  {
   "cell_type": "markdown",
   "metadata": {},
   "source": [
    "When using the `head()` method, you can specify the number of rows you would like to see by calling `head()` with an integer parameter (e.g. `head(2)`)."
   ]
  },
  {
   "cell_type": "markdown",
   "metadata": {},
   "source": [
    "### b. Get column names: `df.columns`\n",
    "\n",
    "Let us retrieve just the list of column names."
   ]
  },
  {
   "cell_type": "code",
   "execution_count": null,
   "metadata": {},
   "outputs": [],
   "source": [
    "list(dataFrame.columns)"
   ]
  },
  {
   "cell_type": "markdown",
   "metadata": {},
   "source": [
    "What do the column names mean? Some of them are less intuitively interpretable than others. <br>\n",
    "Careful data documentation is indispensable for business analytics. You can consult the documentation that accompanies this open source dataset for a detailed description of the key variable names, what they represent, and how they were generated."
   ]
  },
  {
   "cell_type": "markdown",
   "metadata": {},
   "source": [
    "### c. Summary statistics of the DataFrame: `df.describe()`"
   ]
  },
  {
   "cell_type": "markdown",
   "metadata": {},
   "source": [
    "Let's print some general statistics for each one of the `data` columns:"
   ]
  },
  {
   "cell_type": "code",
   "execution_count": null,
   "metadata": {},
   "outputs": [],
   "source": [
    "dataFrame.describe(include='all')"
   ]
  },
  {
   "cell_type": "markdown",
   "metadata": {},
   "source": [
    "### d. Filtering the data: `df[ < condition > ]`"
   ]
  },
  {
   "cell_type": "markdown",
   "metadata": {},
   "source": [
    "Consider the following business question: What is the average availability (out of 365 days in a year) for the listings in Brooklyn? <br>\n",
    "\n",
    "The answer can be obtained by the use of **filters** on the dataset. We need to filter the entries that are in Brooklyn. To do this, we need to know the exact way that Manhattan listings are spelled and entered in the data. Let's print all of the unique values of the `neighbourhood` column:"
   ]
  },
  {
   "cell_type": "code",
   "execution_count": null,
   "metadata": {},
   "outputs": [],
   "source": [
    "dataFrame['neighbourhood'].unique()"
   ]
  },
  {
   "cell_type": "markdown",
   "metadata": {},
   "source": [
    "You may have noticed that there is a lot of heterogeneity in the way `neighbourhood` values are specified. The values are not standardized. There are overlaps, redundancies, and inconsistencies (e.g., some entries specify ```'Greenpoint, Brooklyn, New York, United States'```, some other ones list `'BROOKLYN, New York, United States',`, yet other ones say `'Williamsburg, Brooklyn, New York, United States'`, etc. In real life, you would have to clean this data and replace these values with standard, identically formated, consistent values. <br>\n",
    "\n",
    "For this dataset, we are lucky to already have a 'cleansed' version of the neighborhood information based on the latitude and the longitude of every listing location. \n",
    "\n",
    "We will list the unique values of the columns titled `neighbourhood_cleansed` and `neighbourhood_group_cleansed`:"
   ]
  },
  {
   "cell_type": "code",
   "execution_count": null,
   "metadata": {},
   "outputs": [],
   "source": [
    "dataFrame['neighbourhood_cleansed'].unique()"
   ]
  },
  {
   "cell_type": "code",
   "execution_count": null,
   "metadata": {},
   "outputs": [],
   "source": [
    "dataFrame['neighbourhood_group_cleansed'].unique()"
   ]
  },
  {
   "cell_type": "markdown",
   "metadata": {},
   "source": [
    "Let's filter out all data entries that pertain to Brooklyn listings:"
   ]
  },
  {
   "cell_type": "code",
   "execution_count": null,
   "metadata": {},
   "outputs": [],
   "source": [
    "bk = dataFrame[dataFrame['neighbourhood_group_cleansed'] == 'Brooklyn']\n",
    "bk.shape"
   ]
  },
  {
   "cell_type": "markdown",
   "metadata": {},
   "source": [
    "<b>Tip</b>: to better understand what happened above, in the code cell below, you are encouraged to copy *just the condition* of the filter that we used on the `data` object above: `dataFrame['neighbourhood_group_cleansed'] == 'Brooklyn'`. \n",
    "\n",
    "Run the cell and see what that condition alone evaluates to. You should see a Pandas series containing True/False values. When we use that series as a Boolean filter by writing `dataFrame[ < our Boolean series > ]`, i.e `dataFrame['neighbourhood_group_cleansed'] == 'Brooklyn']`, we are telling Pandas to keep the values in the DataFrame `dataFrame` only with those indices for which the condition evaluated to `True`. "
   ]
  },
  {
   "cell_type": "code",
   "execution_count": 5,
   "metadata": {
    "scrolled": true
   },
   "outputs": [
    {
     "name": "stdout",
     "output_type": "stream",
     "text": [
      "0        False\n",
      "1         True\n",
      "2         True\n",
      "3         True\n",
      "4        False\n",
      "         ...  \n",
      "38272    False\n",
      "38273    False\n",
      "38274    False\n",
      "38275    False\n",
      "38276     True\n",
      "Name: neighbourhood_group_cleansed, Length: 38277, dtype: bool\n"
     ]
    },
    {
     "name": "stderr",
     "output_type": "stream",
     "text": [
      "/usr/local/lib/python3.6/dist-packages/IPython/core/interactiveshell.py:2728: DtypeWarning: Columns (56) have mixed types.Specify dtype option on import or set low_memory=False.\n",
      "  interactivity=interactivity, compiler=compiler, result=result)\n"
     ]
    }
   ],
   "source": [
    "# YOUR CODE HERE \n",
    "import os\n",
    "import pandas as pd\n",
    "filename = os.path.join(os.getcwd(), \"data\", \"airbnbData.csv\")\n",
    "dataFrame = pd.read_csv(filename)\n",
    "print(dataFrame['neighbourhood_group_cleansed'] == 'Brooklyn')"
   ]
  },
  {
   "cell_type": "markdown",
   "metadata": {},
   "source": [
    "\n",
    "### e. Combining values in a column: `np.mean()`"
   ]
  },
  {
   "cell_type": "markdown",
   "metadata": {},
   "source": [
    "Now that we isolated only the relevant entries, it remains to average the value of a particular column that we care about:"
   ]
  },
  {
   "cell_type": "code",
   "execution_count": null,
   "metadata": {},
   "outputs": [],
   "source": [
    "np.mean(bk['availability_365'])"
   ]
  },
  {
   "cell_type": "markdown",
   "metadata": {},
   "source": [
    "### f. Group data by (categorical) column values: `df.groupby()`"
   ]
  },
  {
   "cell_type": "markdown",
   "metadata": {},
   "source": [
    "The next question of interest could be:<br>\n",
    "\n",
    "What are the top 5 most reviewed neighborhoods in New York? (By sheer number of reviews, regardless of their quality). <br>\n",
    "\n",
    "We will use the Pandas ```df.groupby()``` method to determine this:"
   ]
  },
  {
   "cell_type": "code",
   "execution_count": null,
   "metadata": {},
   "outputs": [],
   "source": [
    "nbhd_reviews = dataFrame.groupby('neighbourhood_cleansed')['number_of_reviews'].sum()\n",
    "nbhd_reviews.head()"
   ]
  },
  {
   "cell_type": "markdown",
   "metadata": {},
   "source": [
    "Perform a (descending order) sorting on this series:"
   ]
  },
  {
   "cell_type": "code",
   "execution_count": null,
   "metadata": {},
   "outputs": [],
   "source": [
    "nbhd_reviews = nbhd_reviews.sort_values(ascending = False)\n",
    "nbhd_reviews.head(5)"
   ]
  },
  {
   "cell_type": "markdown",
   "metadata": {},
   "source": [
    "What are the least reviewed neighborhoods?"
   ]
  },
  {
   "cell_type": "code",
   "execution_count": null,
   "metadata": {},
   "outputs": [],
   "source": [
    "nbhd_reviews.tail(5)"
   ]
  },
  {
   "cell_type": "markdown",
   "metadata": {},
   "source": [
    "This result makes it apparent that our dataset is somewhat messy!"
   ]
  },
  {
   "cell_type": "markdown",
   "metadata": {},
   "source": [
    "Notice we could have chained the transformations above into a single command, as in:"
   ]
  },
  {
   "cell_type": "code",
   "execution_count": null,
   "metadata": {},
   "outputs": [],
   "source": [
    "dataFrame.groupby('neighbourhood_cleansed')['number_of_reviews'].sum().sort_values(ascending = False).head(5)"
   ]
  },
  {
   "cell_type": "markdown",
   "metadata": {},
   "source": [
    "This way we don't store objects that we won't need."
   ]
  },
  {
   "cell_type": "markdown",
   "metadata": {},
   "source": [
    "### Bonus: Histogram plotting with Matplotlib: `plt.hist()`"
   ]
  },
  {
   "cell_type": "markdown",
   "metadata": {},
   "source": [
    "As a final touch, run the cell below to visualize the density of average values of review numbers across all neighborhoods. <b>Note:</b> The cell may take a few seconds to run."
   ]
  },
  {
   "cell_type": "code",
   "execution_count": null,
   "metadata": {},
   "outputs": [],
   "source": [
    "%matplotlib inline\n",
    "nbhd_reviews.hist()"
   ]
  },
  {
   "cell_type": "markdown",
   "metadata": {},
   "source": [
    "This plot suggests that the vast majority of neighborhoods have only very few reviews, with just a handful of outliers (those ranked at the top in our previous computed cell) having the number of reviews upward of 40000. "
   ]
  },
  {
   "cell_type": "markdown",
   "metadata": {},
   "source": [
    "## Part 2. ML Life Cycle: Business Understanding and Problem Formulation"
   ]
  },
  {
   "cell_type": "markdown",
   "metadata": {},
   "source": [
    "In this part of the lab, you will practice the first step of the machine learning life cycle: business understanding and problem formulation.\n",
    "\n",
    "Recall that the first step of the machine learning life cycle involves understanding and formulating your ML business problem, and the second step involves data understanding and preparation. In this lab however, we will first provide you with data and have you formulate a machine learning business problem based on that data.\n",
    "\n",
    "We have provided you with four datasets that you will use to formulate a machine learning problem.\n",
    "\n",
    "1. <b>HousingPrices.csv</b>: dataset that contains information about a house's characteristics (number of bedrooms, etc.) and its purchase price.\n",
    "\n",
    "2. <b>Top100Restaurants2020.csv</b>: dataset that contains information about 100 top rated restaurants in 2020.\n",
    "\n",
    "3. <b>ZooData.csv</b>: dataset that contains information about a variety of animals and their characteristics.\n",
    "\n",
    "4. <b>FlightInformation.csv</b>: dataset that contains flight information.\n",
    "\n",
    "The code cells below use the specified paths and names of the files to load the data into four different DataFrames.\n",
    "\n",
    "<b>Task \\#1</b>: After you run a code cell below to load the data, use some of the techniques you have practiced to inspect the data. Do the following: \n",
    "\n",
    "1. Inspect the first 10 rows of each DataFrame.\n",
    "2. Inspect all of the column names in each DataFrame.\n",
    "3. Obtain the shape of each DataFrame.\n",
    "\n",
    "(Note: You can add more cells below to accomplish this task by going to the `Insert` Menu and clicking on `Insert Cell Below`. By default, the new code cell will be of type `Code`.)\n",
    "\n",
    "<b>Task \\#2</b>: Once you have an idea of what is contained in a dataset, you will formulate a machine learning problem for that dataset. This will be a predictive problem. For example, the Airbnb dataset you worked with above can be used to train a machine learning model that can predict the price of a new Airbnb. \n",
    "\n",
    "Come up with at least one machine learning problem per dataset. Specify what you would like to use the data to predict in the future. Since these will be supervised learning problems, specify whether it is a classification (binary or multiclass) or a regression problem. List the label and feature columns. \n",
    "\n",
    "Note: Make sure you successfully ran the cell above that loads the `OS` module prior to running the cells below."
   ]
  },
  {
   "cell_type": "markdown",
   "metadata": {},
   "source": [
    "<b>Housing Prices Dataset</b>:"
   ]
  },
  {
   "cell_type": "code",
   "execution_count": null,
   "metadata": {},
   "outputs": [],
   "source": [
    "filename1 = os.path.join(os.getcwd(), \"data\", \"HousingPrices.csv\") \n",
    "\n",
    "dataFrame1 = pd.read_csv(filename1)"
   ]
  },
  {
   "cell_type": "markdown",
   "metadata": {},
   "source": [
    "Inspect the data:"
   ]
  },
  {
   "cell_type": "code",
   "execution_count": 6,
   "metadata": {},
   "outputs": [
    {
     "name": "stdout",
     "output_type": "stream",
     "text": [
      "First 10 rows:\n",
      "      price   area  bedrooms  bathrooms  stories mainroad guestroom basement  \\\n",
      "0  13300000   7420         4          2        3      yes        no       no   \n",
      "1  12250000   8960         4          4        4      yes        no       no   \n",
      "2  12250000   9960         3          2        2      yes        no      yes   \n",
      "3  12215000   7500         4          2        2      yes        no      yes   \n",
      "4  11410000   7420         4          1        2      yes       yes      yes   \n",
      "5  10850000   7500         3          3        1      yes        no      yes   \n",
      "6  10150000   8580         4          3        4      yes        no       no   \n",
      "7  10150000  16200         5          3        2      yes        no       no   \n",
      "8   9870000   8100         4          1        2      yes       yes      yes   \n",
      "9   9800000   5750         3          2        4      yes       yes       no   \n",
      "\n",
      "  hotwaterheating airconditioning  parking prefarea furnishingstatus  \n",
      "0              no             yes        2      yes        furnished  \n",
      "1              no             yes        3       no        furnished  \n",
      "2              no              no        2      yes   semi-furnished  \n",
      "3              no             yes        3      yes        furnished  \n",
      "4              no             yes        2       no        furnished  \n",
      "5              no             yes        2      yes   semi-furnished  \n",
      "6              no             yes        2      yes   semi-furnished  \n",
      "7              no              no        0       no      unfurnished  \n",
      "8              no             yes        2      yes        furnished  \n",
      "9              no             yes        1      yes      unfurnished  \n",
      "\n",
      "Colunm names:\n",
      "['price', 'area', 'bedrooms', 'bathrooms', 'stories', 'mainroad', 'guestroom', 'basement', 'hotwaterheating', 'airconditioning', 'parking', 'prefarea', 'furnishingstatus']\n",
      "\n",
      "Shape of the DataFrame:\n",
      "(545, 13)\n"
     ]
    }
   ],
   "source": [
    "# YOUR CODE HERE\n",
    "import os\n",
    "import pandas as pd\n",
    "filename1 = os.path.join(os.getcwd(), \"data\", \"HousingPrices.csv\")\n",
    "dataFrame1 = pd.read_csv(filename1)\n",
    "print(\"First 10 rows:\")\n",
    "print(dataFrame1.head(10))\n",
    "print(\"\\nColunm names:\")\n",
    "print(list(dataFrame1.columns))\n",
    "print(\"\\nShape of the DataFrame:\")\n",
    "print(dataFrame1.shape)\n"
   ]
  },
  {
   "cell_type": "markdown",
   "metadata": {},
   "source": [
    "Formulate ML Business Problem:"
   ]
  },
  {
   "cell_type": "markdown",
   "metadata": {},
   "source": [
    "<Double click this Markdown cell to make it editable, and add record your problem formulation here.>"
   ]
  },
  {
   "cell_type": "markdown",
   "metadata": {},
   "source": [
    "<b>Restaurants Dataset</b>:"
   ]
  },
  {
   "cell_type": "code",
   "execution_count": null,
   "metadata": {},
   "outputs": [],
   "source": [
    "filename2 = os.path.join(os.getcwd(), \"data\", \"Top100Restaurants2020.csv\") \n",
    "\n",
    "dataFrame2 = pd.read_csv(filename2)"
   ]
  },
  {
   "cell_type": "markdown",
   "metadata": {},
   "source": [
    "Inspect the data:"
   ]
  },
  {
   "cell_type": "code",
   "execution_count": 7,
   "metadata": {},
   "outputs": [
    {
     "name": "stdout",
     "output_type": "stream",
     "text": [
      "First 10 rows:\n",
      "   Rank                           Restaurant       Sales  Average Check  \\\n",
      "0     1             Carmine's (Times Square)  39080335.0             40   \n",
      "1     2                The Boathouse Orlando  35218364.0             43   \n",
      "2     3                     Old Ebbitt Grill  29104017.0             33   \n",
      "3     4  LAVO Italian Restaurant & Nightclub  26916180.0             90   \n",
      "4     5             Bryant Park Grill & Cafe  26900000.0             62   \n",
      "5     6             Gibsons Bar & Steakhouse  25409952.0             80   \n",
      "6     7       Top of the World at the STRAT   25233543.0            103   \n",
      "7     8                          Maple & Ash  24837595.0             99   \n",
      "8     9                            Balthazar  24547800.0             87   \n",
      "9    10                    Smith & Wollensky  24501000.0            107   \n",
      "\n",
      "         City State  Meals Served                    Category  \n",
      "0    New York  N.Y.      469803.0               Italian/Pizza  \n",
      "1    Orlando   Fla.      820819.0              Steak/ seafood  \n",
      "2  Washington  D.C.      892830.0     Fine Dining/Varied Menu  \n",
      "3    New York  N.Y.      198500.0               Italian/Pizza  \n",
      "4    New York  N.Y.      403000.0  Casual Dining/ Varied Menu  \n",
      "5     Chicago  Ill.      348567.0              Steak/ seafood  \n",
      "6   Las Vegas  Nev.      246054.0     Fine Dining/Varied Menu  \n",
      "7     Chicago  Ill.      210832.0              Steak/ seafood  \n",
      "8    New York  N.Y.      519000.0                      French  \n",
      "9    New York  N.Y.      257364.0              Steak/ seafood  \n",
      "\n",
      "Column names:\n",
      "['Rank', 'Restaurant', 'Sales', 'Average Check', 'City', 'State', 'Meals Served', 'Category']\n",
      "\n",
      "Shape of the DataFrame:\n",
      "(100, 8)\n"
     ]
    }
   ],
   "source": [
    "# YOUR CODE HERE\n",
    "import os\n",
    "import pandas as pd\n",
    "filename2 = os.path.join(os.getcwd(), \"data\", \"Top100Restaurants2020.csv\")\n",
    "dataFrame2 = pd.read_csv(filename2)\n",
    "print(\"First 10 rows:\")\n",
    "print(dataFrame2.head(10))\n",
    "print(\"\\nColumn names:\")\n",
    "print(list(dataFrame2.columns))\n",
    "print(\"\\nShape of the DataFrame:\")\n",
    "print(dataFrame2.shape)"
   ]
  },
  {
   "cell_type": "markdown",
   "metadata": {},
   "source": [
    "Formulate ML Business Problem:"
   ]
  },
  {
   "cell_type": "markdown",
   "metadata": {},
   "source": [
    "<Double click this Markdown cell to make it editable, and add record your problem formulation here.>"
   ]
  },
  {
   "cell_type": "markdown",
   "metadata": {},
   "source": [
    "<b>Zoo Dataset</b>:"
   ]
  },
  {
   "cell_type": "code",
   "execution_count": null,
   "metadata": {},
   "outputs": [],
   "source": [
    "filename3 = os.path.join(os.getcwd(), \"data\", \"ZooData.csv\") \n",
    "\n",
    "dataFrame3 = pd.read_csv(filename3)"
   ]
  },
  {
   "cell_type": "markdown",
   "metadata": {},
   "source": [
    "Inspect the data:"
   ]
  },
  {
   "cell_type": "code",
   "execution_count": 8,
   "metadata": {},
   "outputs": [
    {
     "name": "stdout",
     "output_type": "stream",
     "text": [
      "First 10 rows:\n",
      "  animal_name   hair  feathers   eggs   milk  airborne  aquatic  predator  \\\n",
      "0    aardvark   True     False  False   True     False    False      True   \n",
      "1    antelope   True     False  False   True     False    False     False   \n",
      "2        bass  False     False   True  False     False     True      True   \n",
      "3        bear   True     False  False   True     False    False      True   \n",
      "4        boar   True     False  False   True     False    False      True   \n",
      "5     buffalo   True     False  False   True     False    False     False   \n",
      "6        calf   True     False  False   True     False    False     False   \n",
      "7        carp  False     False   True  False     False     True     False   \n",
      "8     catfish  False     False   True  False     False     True      True   \n",
      "9        cavy   True     False  False   True     False    False     False   \n",
      "\n",
      "   toothed  backbone  breathes  venomous   fins  legs   tail  domestic  \\\n",
      "0     True      True      True     False  False     4  False     False   \n",
      "1     True      True      True     False  False     4   True     False   \n",
      "2     True      True     False     False   True     0   True     False   \n",
      "3     True      True      True     False  False     4  False     False   \n",
      "4     True      True      True     False  False     4   True     False   \n",
      "5     True      True      True     False  False     4   True     False   \n",
      "6     True      True      True     False  False     4   True      True   \n",
      "7     True      True     False     False   True     0   True      True   \n",
      "8     True      True     False     False   True     0   True     False   \n",
      "9     True      True      True     False  False     4  False      True   \n",
      "\n",
      "   catsize class_type  \n",
      "0     True     Mammal  \n",
      "1     True     Mammal  \n",
      "2    False       Fish  \n",
      "3     True     Mammal  \n",
      "4     True     Mammal  \n",
      "5     True     Mammal  \n",
      "6     True     Mammal  \n",
      "7    False       Fish  \n",
      "8    False       Fish  \n",
      "9    False     Mammal  \n",
      "\n",
      "Column names:\n",
      "['animal_name', 'hair', 'feathers', 'eggs', 'milk', 'airborne', 'aquatic', 'predator', 'toothed', 'backbone', 'breathes', 'venomous', 'fins', 'legs', 'tail', 'domestic', 'catsize', 'class_type']\n",
      "\n",
      "Shape of the DataFrame:\n",
      "(101, 18)\n"
     ]
    }
   ],
   "source": [
    "# YOUR CODE HERE\n",
    "import os\n",
    "import pandas as pd\n",
    "filename3 = os.path.join(os.getcwd(), \"data\", \"ZooData.csv\")\n",
    "dataFrame3 = pd.read_csv(filename3)\n",
    "print(\"First 10 rows:\")\n",
    "print(dataFrame3.head(10))\n",
    "print(\"\\nColumn names:\")\n",
    "print(list(dataFrame3.columns))\n",
    "print(\"\\nShape of the DataFrame:\")\n",
    "print(dataFrame3.shape)"
   ]
  },
  {
   "cell_type": "markdown",
   "metadata": {},
   "source": [
    "Formulate ML Business Problem:"
   ]
  },
  {
   "cell_type": "markdown",
   "metadata": {},
   "source": [
    "<Double click this Markdown cell to make it editable, and add record your problem formulation here.>"
   ]
  },
  {
   "cell_type": "markdown",
   "metadata": {},
   "source": [
    "<b>Flight Dataset</b>:"
   ]
  },
  {
   "cell_type": "code",
   "execution_count": null,
   "metadata": {},
   "outputs": [],
   "source": [
    "filename4 = os.path.join(os.getcwd(), \"data\", \"FlightInformation.csv\") \n",
    "\n",
    "dataFrame4 = pd.read_csv(filename4)"
   ]
  },
  {
   "cell_type": "markdown",
   "metadata": {},
   "source": [
    "Inspect the data:"
   ]
  },
  {
   "cell_type": "code",
   "execution_count": 10,
   "metadata": {},
   "outputs": [
    {
     "name": "stdout",
     "output_type": "stream",
     "text": [
      "First 10 rows:\n",
      "   id Airline  Flight AirportFrom AirportTo  DayOfWeek  Time  Length  Delay\n",
      "0   1      CO     269         SFO       IAH          3    15     205      1\n",
      "1   2      US    1558         PHX       CLT          3    15     222      1\n",
      "2   3      AA    2400         LAX       DFW          3    20     165      1\n",
      "3   4      AA    2466         SFO       DFW          3    20     195      1\n",
      "4   5      AS     108         ANC       SEA          3    30     202      0\n",
      "5   6      CO    1094         LAX       IAH          3    30     181      1\n",
      "6   7      DL    1768         LAX       MSP          3    30     220      0\n",
      "7   8      DL    2722         PHX       DTW          3    30     228      0\n",
      "8   9      DL    2606         SFO       MSP          3    35     216      1\n",
      "9  10      AA    2538         LAS       ORD          3    40     200      1\n",
      "\n",
      "Column names:\n",
      "['id', 'Airline', 'Flight', 'AirportFrom', 'AirportTo', 'DayOfWeek', 'Time', 'Length', 'Delay']\n",
      "\n",
      "Shape of the DataFrame:\n",
      "(65499, 9)\n"
     ]
    }
   ],
   "source": [
    "# YOUR CODE HERE\n",
    "import os\n",
    "import pandas as pd\n",
    "filename4 = os.path.join(os.getcwd(), \"data\", \"FlightInformation.csv\")\n",
    "dataFrame4 = pd.read_csv(filename4)\n",
    "print(\"First 10 rows:\")\n",
    "print(dataFrame4.head(10))\n",
    "print(\"\\nColumn names:\")\n",
    "print(list(dataFrame4.columns))\n",
    "print(\"\\nShape of the DataFrame:\")\n",
    "print(dataFrame4.shape)"
   ]
  },
  {
   "cell_type": "markdown",
   "metadata": {},
   "source": [
    "Formulate ML Business Problem:"
   ]
  },
  {
   "cell_type": "markdown",
   "metadata": {},
   "source": [
    "<Double click this Markdown cell to make it editable, and add record your problem formulation here.>"
   ]
  },
  {
   "cell_type": "markdown",
   "metadata": {},
   "source": [
    "<b>Next Steps</b>: The second step of the machine learning life cycle is data understanding and data preparation. You practiced some aspects of data understanding when using NumPy and Pandas to inspect the Airbnb dataset. You will learn more about this second step of the machine learning life cycle in the next unit."
   ]
  }
 ],
 "metadata": {
  "kernelspec": {
   "display_name": "Python 3",
   "language": "python",
   "name": "python3"
  },
  "language_info": {
   "codemirror_mode": {
    "name": "ipython",
    "version": 3
   },
   "file_extension": ".py",
   "mimetype": "text/x-python",
   "name": "python",
   "nbconvert_exporter": "python",
   "pygments_lexer": "ipython3",
   "version": "3.6.9"
  },
  "toc": {
   "base_numbering": 1,
   "nav_menu": {
    "height": "12px",
    "width": "162px"
   },
   "number_sections": false,
   "sideBar": true,
   "skip_h1_title": false,
   "title_cell": "Table of Contents",
   "title_sidebar": "Contents",
   "toc_cell": false,
   "toc_position": {},
   "toc_section_display": true,
   "toc_window_display": false
  },
  "varInspector": {
   "cols": {
    "lenName": 16,
    "lenType": 16,
    "lenVar": 40
   },
   "kernels_config": {
    "python": {
     "delete_cmd_postfix": "",
     "delete_cmd_prefix": "del ",
     "library": "var_list.py",
     "varRefreshCmd": "print(var_dic_list())"
    },
    "r": {
     "delete_cmd_postfix": ") ",
     "delete_cmd_prefix": "rm(",
     "library": "var_list.r",
     "varRefreshCmd": "cat(var_dic_list()) "
    }
   },
   "types_to_exclude": [
    "module",
    "function",
    "builtin_function_or_method",
    "instance",
    "_Feature"
   ],
   "window_display": false
  }
 },
 "nbformat": 4,
 "nbformat_minor": 2
}
